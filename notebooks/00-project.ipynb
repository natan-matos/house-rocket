{
   "cells": [
      {
         "cell_type": "markdown",
         "metadata": {},
         "source": [
            "# 0.0 Imports"
         ]
      },
      {
         "cell_type": "markdown",
         "metadata": {},
         "source": [
            "# 0.1 Load Data"
         ]
      },
      {
         "cell_type": "markdown",
         "metadata": {},
         "source": [
            "# 1.0 Data Description"
         ]
      },
      {
         "cell_type": "markdown",
         "metadata": {},
         "source": [
            "### 1.1 Data Dimension"
         ]
      },
      {
         "cell_type": "markdown",
         "metadata": {},
         "source": [
            "### 1.2 Data Types"
         ]
      },
      {
         "cell_type": "markdown",
         "metadata": {},
         "source": [
            "### 1.3 Check & Fillout NAs"
         ]
      },
      {
         "cell_type": "markdown",
         "metadata": {},
         "source": [
            "### 1.4 Data Descriptive"
         ]
      },
      {
         "cell_type": "markdown",
         "metadata": {},
         "source": [
            "### Numerical Attributes"
         ]
      },
      {
         "cell_type": "markdown",
         "metadata": {},
         "source": [
            "### Categorical Attributes"
         ]
      },
      {
         "cell_type": "markdown",
         "metadata": {},
         "source": [
            "# 2.0 Feature Engineering"
         ]
      },
      {
         "cell_type": "markdown",
         "metadata": {},
         "source": [
            "# 3.0 Data Filtering"
         ]
      },
      {
         "cell_type": "markdown",
         "metadata": {},
         "source": [
            "# 4.0 EDA"
         ]
      },
      {
         "cell_type": "markdown",
         "metadata": {},
         "source": [
            "### 4.1 Univariate Analysis"
         ]
      },
      {
         "cell_type": "markdown",
         "metadata": {},
         "source": [
            "### 4.2 Bivariate Analysis"
         ]
      },
      {
         "cell_type": "markdown",
         "metadata": {},
         "source": [
            "### 4.3 Multiivariate Analysis"
         ]
      },
      {
         "cell_type": "markdown",
         "metadata": {},
         "source": [
            "# 5.0 Feature Selection"
         ]
      },
      {
         "cell_type": "markdown",
         "metadata": {},
         "source": [
            "# 6.0 Data Preparation"
         ]
      },
      {
         "cell_type": "markdown",
         "metadata": {},
         "source": [
            "# 7.0 Machine Learning"
         ]
      },
      {
         "cell_type": "markdown",
         "metadata": {},
         "source": [
            "## 2.3 Check & Fillout NAs"
         ]
      },
      {
         "cell_type": "markdown",
         "metadata": {},
         "source": [
            "## 2.3 Check & Fillout NAs"
         ]
      }
   ],
   "metadata": {
      "language_info": {
         "name": "python"
      },
      "orig_nbformat": 4
   },
   "nbformat": 4,
   "nbformat_minor": 2
}
